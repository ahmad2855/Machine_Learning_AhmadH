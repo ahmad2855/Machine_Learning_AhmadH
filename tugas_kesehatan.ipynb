{
  "nbformat": 4,
  "nbformat_minor": 0,
  "metadata": {
    "colab": {
      "provenance": []
    },
    "kernelspec": {
      "name": "python3",
      "display_name": "Python 3"
    },
    "language_info": {
      "name": "python"
    }
  },
  "cells": [
    {
      "cell_type": "code",
      "execution_count": 2,
      "metadata": {
        "colab": {
          "base_uri": "https://localhost:8080/"
        },
        "id": "2oUp_MuV3F6c",
        "outputId": "1c71d994-94eb-43f3-a9f8-43f2a3a905ea"
      },
      "outputs": [
        {
          "output_type": "stream",
          "name": "stdout",
          "text": [
            "Drive already mounted at /content/drive; to attempt to forcibly remount, call drive.mount(\"/content/drive\", force_remount=True).\n"
          ]
        }
      ],
      "source": [
        "import pandas as pd\n",
        "from google.colab import drive #memanggil package import drive\n",
        "drive.mount('/content/drive')"
      ]
    },
    {
      "cell_type": "code",
      "source": [
        "path = '/content/drive/MyDrive/CSV/jumlah-balita-penderita-pneumonia.csv'\n",
        "\n",
        "\n",
        "df = pd.read_csv(path)\n",
        "\n",
        "df.describe()"
      ],
      "metadata": {
        "colab": {
          "base_uri": "https://localhost:8080/",
          "height": 300
        },
        "id": "ltP5GjIF9IpI",
        "outputId": "5f48acd6-da93-402f-f59b-971962b7fb94"
      },
      "execution_count": 3,
      "outputs": [
        {
          "output_type": "execute_result",
          "data": {
            "text/plain": [
              "       Jumlah Balita Penderita Pneumonia (L)  \\\n",
              "count                              30.000000   \n",
              "mean                              283.500000   \n",
              "std                               222.451661   \n",
              "min                                63.000000   \n",
              "25%                               130.000000   \n",
              "50%                               208.500000   \n",
              "75%                               401.250000   \n",
              "max                               993.000000   \n",
              "\n",
              "       Jumlah Balita Penderita Pneumonia (P)  \n",
              "count                              30.000000  \n",
              "mean                              250.833333  \n",
              "std                               189.934123  \n",
              "min                                57.000000  \n",
              "25%                               117.250000  \n",
              "50%                               185.500000  \n",
              "75%                               351.250000  \n",
              "max                               835.000000  "
            ],
            "text/html": [
              "\n",
              "  <div id=\"df-6d32eda0-bd0a-4fbd-8508-3c8270bc561c\">\n",
              "    <div class=\"colab-df-container\">\n",
              "      <div>\n",
              "<style scoped>\n",
              "    .dataframe tbody tr th:only-of-type {\n",
              "        vertical-align: middle;\n",
              "    }\n",
              "\n",
              "    .dataframe tbody tr th {\n",
              "        vertical-align: top;\n",
              "    }\n",
              "\n",
              "    .dataframe thead th {\n",
              "        text-align: right;\n",
              "    }\n",
              "</style>\n",
              "<table border=\"1\" class=\"dataframe\">\n",
              "  <thead>\n",
              "    <tr style=\"text-align: right;\">\n",
              "      <th></th>\n",
              "      <th>Jumlah Balita Penderita Pneumonia (L)</th>\n",
              "      <th>Jumlah Balita Penderita Pneumonia (P)</th>\n",
              "    </tr>\n",
              "  </thead>\n",
              "  <tbody>\n",
              "    <tr>\n",
              "      <th>count</th>\n",
              "      <td>30.000000</td>\n",
              "      <td>30.000000</td>\n",
              "    </tr>\n",
              "    <tr>\n",
              "      <th>mean</th>\n",
              "      <td>283.500000</td>\n",
              "      <td>250.833333</td>\n",
              "    </tr>\n",
              "    <tr>\n",
              "      <th>std</th>\n",
              "      <td>222.451661</td>\n",
              "      <td>189.934123</td>\n",
              "    </tr>\n",
              "    <tr>\n",
              "      <th>min</th>\n",
              "      <td>63.000000</td>\n",
              "      <td>57.000000</td>\n",
              "    </tr>\n",
              "    <tr>\n",
              "      <th>25%</th>\n",
              "      <td>130.000000</td>\n",
              "      <td>117.250000</td>\n",
              "    </tr>\n",
              "    <tr>\n",
              "      <th>50%</th>\n",
              "      <td>208.500000</td>\n",
              "      <td>185.500000</td>\n",
              "    </tr>\n",
              "    <tr>\n",
              "      <th>75%</th>\n",
              "      <td>401.250000</td>\n",
              "      <td>351.250000</td>\n",
              "    </tr>\n",
              "    <tr>\n",
              "      <th>max</th>\n",
              "      <td>993.000000</td>\n",
              "      <td>835.000000</td>\n",
              "    </tr>\n",
              "  </tbody>\n",
              "</table>\n",
              "</div>\n",
              "      <button class=\"colab-df-convert\" onclick=\"convertToInteractive('df-6d32eda0-bd0a-4fbd-8508-3c8270bc561c')\"\n",
              "              title=\"Convert this dataframe to an interactive table.\"\n",
              "              style=\"display:none;\">\n",
              "        \n",
              "  <svg xmlns=\"http://www.w3.org/2000/svg\" height=\"24px\"viewBox=\"0 0 24 24\"\n",
              "       width=\"24px\">\n",
              "    <path d=\"M0 0h24v24H0V0z\" fill=\"none\"/>\n",
              "    <path d=\"M18.56 5.44l.94 2.06.94-2.06 2.06-.94-2.06-.94-.94-2.06-.94 2.06-2.06.94zm-11 1L8.5 8.5l.94-2.06 2.06-.94-2.06-.94L8.5 2.5l-.94 2.06-2.06.94zm10 10l.94 2.06.94-2.06 2.06-.94-2.06-.94-.94-2.06-.94 2.06-2.06.94z\"/><path d=\"M17.41 7.96l-1.37-1.37c-.4-.4-.92-.59-1.43-.59-.52 0-1.04.2-1.43.59L10.3 9.45l-7.72 7.72c-.78.78-.78 2.05 0 2.83L4 21.41c.39.39.9.59 1.41.59.51 0 1.02-.2 1.41-.59l7.78-7.78 2.81-2.81c.8-.78.8-2.07 0-2.86zM5.41 20L4 18.59l7.72-7.72 1.47 1.35L5.41 20z\"/>\n",
              "  </svg>\n",
              "      </button>\n",
              "      \n",
              "  <style>\n",
              "    .colab-df-container {\n",
              "      display:flex;\n",
              "      flex-wrap:wrap;\n",
              "      gap: 12px;\n",
              "    }\n",
              "\n",
              "    .colab-df-convert {\n",
              "      background-color: #E8F0FE;\n",
              "      border: none;\n",
              "      border-radius: 50%;\n",
              "      cursor: pointer;\n",
              "      display: none;\n",
              "      fill: #1967D2;\n",
              "      height: 32px;\n",
              "      padding: 0 0 0 0;\n",
              "      width: 32px;\n",
              "    }\n",
              "\n",
              "    .colab-df-convert:hover {\n",
              "      background-color: #E2EBFA;\n",
              "      box-shadow: 0px 1px 2px rgba(60, 64, 67, 0.3), 0px 1px 3px 1px rgba(60, 64, 67, 0.15);\n",
              "      fill: #174EA6;\n",
              "    }\n",
              "\n",
              "    [theme=dark] .colab-df-convert {\n",
              "      background-color: #3B4455;\n",
              "      fill: #D2E3FC;\n",
              "    }\n",
              "\n",
              "    [theme=dark] .colab-df-convert:hover {\n",
              "      background-color: #434B5C;\n",
              "      box-shadow: 0px 1px 3px 1px rgba(0, 0, 0, 0.15);\n",
              "      filter: drop-shadow(0px 1px 2px rgba(0, 0, 0, 0.3));\n",
              "      fill: #FFFFFF;\n",
              "    }\n",
              "  </style>\n",
              "\n",
              "      <script>\n",
              "        const buttonEl =\n",
              "          document.querySelector('#df-6d32eda0-bd0a-4fbd-8508-3c8270bc561c button.colab-df-convert');\n",
              "        buttonEl.style.display =\n",
              "          google.colab.kernel.accessAllowed ? 'block' : 'none';\n",
              "\n",
              "        async function convertToInteractive(key) {\n",
              "          const element = document.querySelector('#df-6d32eda0-bd0a-4fbd-8508-3c8270bc561c');\n",
              "          const dataTable =\n",
              "            await google.colab.kernel.invokeFunction('convertToInteractive',\n",
              "                                                     [key], {});\n",
              "          if (!dataTable) return;\n",
              "\n",
              "          const docLinkHtml = 'Like what you see? Visit the ' +\n",
              "            '<a target=\"_blank\" href=https://colab.research.google.com/notebooks/data_table.ipynb>data table notebook</a>'\n",
              "            + ' to learn more about interactive tables.';\n",
              "          element.innerHTML = '';\n",
              "          dataTable['output_type'] = 'display_data';\n",
              "          await google.colab.output.renderOutput(dataTable, element);\n",
              "          const docLink = document.createElement('div');\n",
              "          docLink.innerHTML = docLinkHtml;\n",
              "          element.appendChild(docLink);\n",
              "        }\n",
              "      </script>\n",
              "    </div>\n",
              "  </div>\n",
              "  "
            ]
          },
          "metadata": {},
          "execution_count": 3
        }
      ]
    },
    {
      "cell_type": "code",
      "source": [
        "df"
      ],
      "metadata": {
        "colab": {
          "base_uri": "https://localhost:8080/",
          "height": 1000
        },
        "id": "DQQGIxM-9X8W",
        "outputId": "d500d072-3963-4947-ad67-324b6beeb344"
      },
      "execution_count": 4,
      "outputs": [
        {
          "output_type": "execute_result",
          "data": {
            "text/plain": [
              "           Kecamatan              Puskesmas  \\\n",
              "0           SUKASARI           UPT SUKARASA   \n",
              "1           SUKAJADI          UPT SUKAJADI    \n",
              "2            CICENDO        UPT PASIRKALIKI   \n",
              "3              ANDIR             UPT GARUDA   \n",
              "4            CIDADAP       UPT CIUMBULEUIT    \n",
              "5            COBLONG             UPT PUTER    \n",
              "6      BANDUNG WETAN              UPT SALAM   \n",
              "7      SUMUR BANDUNG           UPT TAMBLONG   \n",
              "8   CIBEUNYING KALER         UPT NEGLASARI    \n",
              "9   CIBEUNYING KIDUL           UPT PADASUKA   \n",
              "10      KIARACONDONG       UPT BABAKAN SARI   \n",
              "11       BATUNUNGGAL       UPT IBRAHIM AJI    \n",
              "12          LENGKONG        UPT TALAGABODAS   \n",
              "13             REGOL           UPT PASUNDAN   \n",
              "14       ASTANAANYAR           UPT PAGARSIH   \n",
              "15   BOJONGLOA KALER            UPT CETARIP   \n",
              "16   BOJONGLOA KIDUL               UPT KOPO   \n",
              "17   BABAKAN CIPARAY           UPT CARINGIN   \n",
              "18     BANDUNG KULON           UPT CIBUNTU    \n",
              "19          ANTAPANI     UPT GRIYA ANTAPANI   \n",
              "20       MANDALAJATI        UPT SINDANGJAYA   \n",
              "21         ARCAMANIK          UPT ARCAMANIK   \n",
              "22       UJUNGBERUNG  UPT UJUNGBERUNG INDAH   \n",
              "23           CINAMBO            UPT CINAMBO   \n",
              "24            CIBIRU            UPT CIBIRU    \n",
              "25       PANYILEUKAN          UPT PANGHEGAR   \n",
              "26          GEDEBAGE      UPT RIUNG BANDUNG   \n",
              "27         RANCASARI        UPT CIPAMOKOLAN   \n",
              "28          BUAHBATU     UPT MARGAHAYU RAYA   \n",
              "29     BANDUNG KIDUL        UPT KUJANGSARI    \n",
              "\n",
              "    Jumlah Balita Penderita Pneumonia (L)  \\\n",
              "0                                     323   \n",
              "1                                      70   \n",
              "2                                     819   \n",
              "3                                     993   \n",
              "4                                      86   \n",
              "5                                     564   \n",
              "6                                      75   \n",
              "7                                     169   \n",
              "8                                      97   \n",
              "9                                     430   \n",
              "10                                    499   \n",
              "11                                    234   \n",
              "12                                    191   \n",
              "13                                    145   \n",
              "14                                    413   \n",
              "15                                    182   \n",
              "16                                    226   \n",
              "17                                    393   \n",
              "18                                    324   \n",
              "19                                     63   \n",
              "20                                    125   \n",
              "21                                    152   \n",
              "22                                    175   \n",
              "23                                    101   \n",
              "24                                    404   \n",
              "25                                    188   \n",
              "26                                    260   \n",
              "27                                    236   \n",
              "28                                     79   \n",
              "29                                    489   \n",
              "\n",
              "    Jumlah Balita Penderita Pneumonia (P)  \n",
              "0                                     318  \n",
              "1                                      79  \n",
              "2                                     729  \n",
              "3                                     835  \n",
              "4                                     103  \n",
              "5                                     476  \n",
              "6                                      67  \n",
              "7                                     173  \n",
              "8                                     114  \n",
              "9                                     358  \n",
              "10                                    443  \n",
              "11                                    153  \n",
              "12                                    194  \n",
              "13                                    124  \n",
              "14                                    403  \n",
              "15                                    177  \n",
              "16                                    118  \n",
              "17                                    331  \n",
              "18                                    277  \n",
              "19                                     57  \n",
              "20                                    117  \n",
              "21                                    132  \n",
              "22                                    135  \n",
              "23                                    114  \n",
              "24                                    371  \n",
              "25                                    195  \n",
              "26                                    223  \n",
              "27                                    224  \n",
              "28                                     70  \n",
              "29                                    415  "
            ],
            "text/html": [
              "\n",
              "  <div id=\"df-d7ef7af8-8e06-4529-a32d-b5dddf005353\">\n",
              "    <div class=\"colab-df-container\">\n",
              "      <div>\n",
              "<style scoped>\n",
              "    .dataframe tbody tr th:only-of-type {\n",
              "        vertical-align: middle;\n",
              "    }\n",
              "\n",
              "    .dataframe tbody tr th {\n",
              "        vertical-align: top;\n",
              "    }\n",
              "\n",
              "    .dataframe thead th {\n",
              "        text-align: right;\n",
              "    }\n",
              "</style>\n",
              "<table border=\"1\" class=\"dataframe\">\n",
              "  <thead>\n",
              "    <tr style=\"text-align: right;\">\n",
              "      <th></th>\n",
              "      <th>Kecamatan</th>\n",
              "      <th>Puskesmas</th>\n",
              "      <th>Jumlah Balita Penderita Pneumonia (L)</th>\n",
              "      <th>Jumlah Balita Penderita Pneumonia (P)</th>\n",
              "    </tr>\n",
              "  </thead>\n",
              "  <tbody>\n",
              "    <tr>\n",
              "      <th>0</th>\n",
              "      <td>SUKASARI</td>\n",
              "      <td>UPT SUKARASA</td>\n",
              "      <td>323</td>\n",
              "      <td>318</td>\n",
              "    </tr>\n",
              "    <tr>\n",
              "      <th>1</th>\n",
              "      <td>SUKAJADI</td>\n",
              "      <td>UPT SUKAJADI</td>\n",
              "      <td>70</td>\n",
              "      <td>79</td>\n",
              "    </tr>\n",
              "    <tr>\n",
              "      <th>2</th>\n",
              "      <td>CICENDO</td>\n",
              "      <td>UPT PASIRKALIKI</td>\n",
              "      <td>819</td>\n",
              "      <td>729</td>\n",
              "    </tr>\n",
              "    <tr>\n",
              "      <th>3</th>\n",
              "      <td>ANDIR</td>\n",
              "      <td>UPT GARUDA</td>\n",
              "      <td>993</td>\n",
              "      <td>835</td>\n",
              "    </tr>\n",
              "    <tr>\n",
              "      <th>4</th>\n",
              "      <td>CIDADAP</td>\n",
              "      <td>UPT CIUMBULEUIT</td>\n",
              "      <td>86</td>\n",
              "      <td>103</td>\n",
              "    </tr>\n",
              "    <tr>\n",
              "      <th>5</th>\n",
              "      <td>COBLONG</td>\n",
              "      <td>UPT PUTER</td>\n",
              "      <td>564</td>\n",
              "      <td>476</td>\n",
              "    </tr>\n",
              "    <tr>\n",
              "      <th>6</th>\n",
              "      <td>BANDUNG WETAN</td>\n",
              "      <td>UPT SALAM</td>\n",
              "      <td>75</td>\n",
              "      <td>67</td>\n",
              "    </tr>\n",
              "    <tr>\n",
              "      <th>7</th>\n",
              "      <td>SUMUR BANDUNG</td>\n",
              "      <td>UPT TAMBLONG</td>\n",
              "      <td>169</td>\n",
              "      <td>173</td>\n",
              "    </tr>\n",
              "    <tr>\n",
              "      <th>8</th>\n",
              "      <td>CIBEUNYING KALER</td>\n",
              "      <td>UPT NEGLASARI</td>\n",
              "      <td>97</td>\n",
              "      <td>114</td>\n",
              "    </tr>\n",
              "    <tr>\n",
              "      <th>9</th>\n",
              "      <td>CIBEUNYING KIDUL</td>\n",
              "      <td>UPT PADASUKA</td>\n",
              "      <td>430</td>\n",
              "      <td>358</td>\n",
              "    </tr>\n",
              "    <tr>\n",
              "      <th>10</th>\n",
              "      <td>KIARACONDONG</td>\n",
              "      <td>UPT BABAKAN SARI</td>\n",
              "      <td>499</td>\n",
              "      <td>443</td>\n",
              "    </tr>\n",
              "    <tr>\n",
              "      <th>11</th>\n",
              "      <td>BATUNUNGGAL</td>\n",
              "      <td>UPT IBRAHIM AJI</td>\n",
              "      <td>234</td>\n",
              "      <td>153</td>\n",
              "    </tr>\n",
              "    <tr>\n",
              "      <th>12</th>\n",
              "      <td>LENGKONG</td>\n",
              "      <td>UPT TALAGABODAS</td>\n",
              "      <td>191</td>\n",
              "      <td>194</td>\n",
              "    </tr>\n",
              "    <tr>\n",
              "      <th>13</th>\n",
              "      <td>REGOL</td>\n",
              "      <td>UPT PASUNDAN</td>\n",
              "      <td>145</td>\n",
              "      <td>124</td>\n",
              "    </tr>\n",
              "    <tr>\n",
              "      <th>14</th>\n",
              "      <td>ASTANAANYAR</td>\n",
              "      <td>UPT PAGARSIH</td>\n",
              "      <td>413</td>\n",
              "      <td>403</td>\n",
              "    </tr>\n",
              "    <tr>\n",
              "      <th>15</th>\n",
              "      <td>BOJONGLOA KALER</td>\n",
              "      <td>UPT CETARIP</td>\n",
              "      <td>182</td>\n",
              "      <td>177</td>\n",
              "    </tr>\n",
              "    <tr>\n",
              "      <th>16</th>\n",
              "      <td>BOJONGLOA KIDUL</td>\n",
              "      <td>UPT KOPO</td>\n",
              "      <td>226</td>\n",
              "      <td>118</td>\n",
              "    </tr>\n",
              "    <tr>\n",
              "      <th>17</th>\n",
              "      <td>BABAKAN CIPARAY</td>\n",
              "      <td>UPT CARINGIN</td>\n",
              "      <td>393</td>\n",
              "      <td>331</td>\n",
              "    </tr>\n",
              "    <tr>\n",
              "      <th>18</th>\n",
              "      <td>BANDUNG KULON</td>\n",
              "      <td>UPT CIBUNTU</td>\n",
              "      <td>324</td>\n",
              "      <td>277</td>\n",
              "    </tr>\n",
              "    <tr>\n",
              "      <th>19</th>\n",
              "      <td>ANTAPANI</td>\n",
              "      <td>UPT GRIYA ANTAPANI</td>\n",
              "      <td>63</td>\n",
              "      <td>57</td>\n",
              "    </tr>\n",
              "    <tr>\n",
              "      <th>20</th>\n",
              "      <td>MANDALAJATI</td>\n",
              "      <td>UPT SINDANGJAYA</td>\n",
              "      <td>125</td>\n",
              "      <td>117</td>\n",
              "    </tr>\n",
              "    <tr>\n",
              "      <th>21</th>\n",
              "      <td>ARCAMANIK</td>\n",
              "      <td>UPT ARCAMANIK</td>\n",
              "      <td>152</td>\n",
              "      <td>132</td>\n",
              "    </tr>\n",
              "    <tr>\n",
              "      <th>22</th>\n",
              "      <td>UJUNGBERUNG</td>\n",
              "      <td>UPT UJUNGBERUNG INDAH</td>\n",
              "      <td>175</td>\n",
              "      <td>135</td>\n",
              "    </tr>\n",
              "    <tr>\n",
              "      <th>23</th>\n",
              "      <td>CINAMBO</td>\n",
              "      <td>UPT CINAMBO</td>\n",
              "      <td>101</td>\n",
              "      <td>114</td>\n",
              "    </tr>\n",
              "    <tr>\n",
              "      <th>24</th>\n",
              "      <td>CIBIRU</td>\n",
              "      <td>UPT CIBIRU</td>\n",
              "      <td>404</td>\n",
              "      <td>371</td>\n",
              "    </tr>\n",
              "    <tr>\n",
              "      <th>25</th>\n",
              "      <td>PANYILEUKAN</td>\n",
              "      <td>UPT PANGHEGAR</td>\n",
              "      <td>188</td>\n",
              "      <td>195</td>\n",
              "    </tr>\n",
              "    <tr>\n",
              "      <th>26</th>\n",
              "      <td>GEDEBAGE</td>\n",
              "      <td>UPT RIUNG BANDUNG</td>\n",
              "      <td>260</td>\n",
              "      <td>223</td>\n",
              "    </tr>\n",
              "    <tr>\n",
              "      <th>27</th>\n",
              "      <td>RANCASARI</td>\n",
              "      <td>UPT CIPAMOKOLAN</td>\n",
              "      <td>236</td>\n",
              "      <td>224</td>\n",
              "    </tr>\n",
              "    <tr>\n",
              "      <th>28</th>\n",
              "      <td>BUAHBATU</td>\n",
              "      <td>UPT MARGAHAYU RAYA</td>\n",
              "      <td>79</td>\n",
              "      <td>70</td>\n",
              "    </tr>\n",
              "    <tr>\n",
              "      <th>29</th>\n",
              "      <td>BANDUNG KIDUL</td>\n",
              "      <td>UPT KUJANGSARI</td>\n",
              "      <td>489</td>\n",
              "      <td>415</td>\n",
              "    </tr>\n",
              "  </tbody>\n",
              "</table>\n",
              "</div>\n",
              "      <button class=\"colab-df-convert\" onclick=\"convertToInteractive('df-d7ef7af8-8e06-4529-a32d-b5dddf005353')\"\n",
              "              title=\"Convert this dataframe to an interactive table.\"\n",
              "              style=\"display:none;\">\n",
              "        \n",
              "  <svg xmlns=\"http://www.w3.org/2000/svg\" height=\"24px\"viewBox=\"0 0 24 24\"\n",
              "       width=\"24px\">\n",
              "    <path d=\"M0 0h24v24H0V0z\" fill=\"none\"/>\n",
              "    <path d=\"M18.56 5.44l.94 2.06.94-2.06 2.06-.94-2.06-.94-.94-2.06-.94 2.06-2.06.94zm-11 1L8.5 8.5l.94-2.06 2.06-.94-2.06-.94L8.5 2.5l-.94 2.06-2.06.94zm10 10l.94 2.06.94-2.06 2.06-.94-2.06-.94-.94-2.06-.94 2.06-2.06.94z\"/><path d=\"M17.41 7.96l-1.37-1.37c-.4-.4-.92-.59-1.43-.59-.52 0-1.04.2-1.43.59L10.3 9.45l-7.72 7.72c-.78.78-.78 2.05 0 2.83L4 21.41c.39.39.9.59 1.41.59.51 0 1.02-.2 1.41-.59l7.78-7.78 2.81-2.81c.8-.78.8-2.07 0-2.86zM5.41 20L4 18.59l7.72-7.72 1.47 1.35L5.41 20z\"/>\n",
              "  </svg>\n",
              "      </button>\n",
              "      \n",
              "  <style>\n",
              "    .colab-df-container {\n",
              "      display:flex;\n",
              "      flex-wrap:wrap;\n",
              "      gap: 12px;\n",
              "    }\n",
              "\n",
              "    .colab-df-convert {\n",
              "      background-color: #E8F0FE;\n",
              "      border: none;\n",
              "      border-radius: 50%;\n",
              "      cursor: pointer;\n",
              "      display: none;\n",
              "      fill: #1967D2;\n",
              "      height: 32px;\n",
              "      padding: 0 0 0 0;\n",
              "      width: 32px;\n",
              "    }\n",
              "\n",
              "    .colab-df-convert:hover {\n",
              "      background-color: #E2EBFA;\n",
              "      box-shadow: 0px 1px 2px rgba(60, 64, 67, 0.3), 0px 1px 3px 1px rgba(60, 64, 67, 0.15);\n",
              "      fill: #174EA6;\n",
              "    }\n",
              "\n",
              "    [theme=dark] .colab-df-convert {\n",
              "      background-color: #3B4455;\n",
              "      fill: #D2E3FC;\n",
              "    }\n",
              "\n",
              "    [theme=dark] .colab-df-convert:hover {\n",
              "      background-color: #434B5C;\n",
              "      box-shadow: 0px 1px 3px 1px rgba(0, 0, 0, 0.15);\n",
              "      filter: drop-shadow(0px 1px 2px rgba(0, 0, 0, 0.3));\n",
              "      fill: #FFFFFF;\n",
              "    }\n",
              "  </style>\n",
              "\n",
              "      <script>\n",
              "        const buttonEl =\n",
              "          document.querySelector('#df-d7ef7af8-8e06-4529-a32d-b5dddf005353 button.colab-df-convert');\n",
              "        buttonEl.style.display =\n",
              "          google.colab.kernel.accessAllowed ? 'block' : 'none';\n",
              "\n",
              "        async function convertToInteractive(key) {\n",
              "          const element = document.querySelector('#df-d7ef7af8-8e06-4529-a32d-b5dddf005353');\n",
              "          const dataTable =\n",
              "            await google.colab.kernel.invokeFunction('convertToInteractive',\n",
              "                                                     [key], {});\n",
              "          if (!dataTable) return;\n",
              "\n",
              "          const docLinkHtml = 'Like what you see? Visit the ' +\n",
              "            '<a target=\"_blank\" href=https://colab.research.google.com/notebooks/data_table.ipynb>data table notebook</a>'\n",
              "            + ' to learn more about interactive tables.';\n",
              "          element.innerHTML = '';\n",
              "          dataTable['output_type'] = 'display_data';\n",
              "          await google.colab.output.renderOutput(dataTable, element);\n",
              "          const docLink = document.createElement('div');\n",
              "          docLink.innerHTML = docLinkHtml;\n",
              "          element.appendChild(docLink);\n",
              "        }\n",
              "      </script>\n",
              "    </div>\n",
              "  </div>\n",
              "  "
            ]
          },
          "metadata": {},
          "execution_count": 4
        }
      ]
    },
    {
      "cell_type": "code",
      "source": [
        "import matplotlib.pyplot as plt\n",
        "\n",
        "df.plot(kind='scatter', x='Jumlah Balita Penderita Pneumonia (L)', y='Jumlah Balita Penderita Pneumonia (P)')\n",
        "\n",
        "plt.title('tabel kesehatan')\n",
        "plt.xlabel('Jumlah Balita Penderita Pneumonia (L)')\n",
        "plt.ylabel('Jumlah Balita Penderita Pneumonia (P)')\n",
        "plt.xlim(0, 1000)\n",
        "plt.ylim(0, 1000)\n",
        "plt.grid(True)\n",
        "plt.show()"
      ],
      "metadata": {
        "colab": {
          "base_uri": "https://localhost:8080/",
          "height": 295
        },
        "id": "6jRBaKaN9Zpm",
        "outputId": "79a56a1a-a61e-4283-9d9c-1358462c3de1"
      },
      "execution_count": 5,
      "outputs": [
        {
          "output_type": "display_data",
          "data": {
            "text/plain": [
              "<Figure size 432x288 with 1 Axes>"
            ],
            "image/png": "[encoded data removed]"
          },
          "metadata": {
            "needs_background": "light"
          }
        }
      ]
    },
    {
      "cell_type": "code",
      "source": [
        "import numpy as np\n",
        "x = np.array(df['Jumlah Balita Penderita Pneumonia (L)'])\n",
        "y = np.array(df['Jumlah Balita Penderita Pneumonia (P)'])\n",
        "\n",
        "print(f'x : {x}')\n",
        "print(f'y : {y}')"
      ],
      "metadata": {
        "colab": {
          "base_uri": "https://localhost:8080/"
        },
        "id": "37A4ZSG691V5",
        "outputId": "6e476fd0-9a61-4fa0-e22f-021700d011d3"
      },
      "execution_count": 6,
      "outputs": [
        {
          "output_type": "stream",
          "name": "stdout",
          "text": [
            "x : [323  70 819 993  86 564  75 169  97 430 499 234 191 145 413 182 226 393\n",
            " 324  63 125 152 175 101 404 188 260 236  79 489]\n",
            "y : [318  79 729 835 103 476  67 173 114 358 443 153 194 124 403 177 118 331\n",
            " 277  57 117 132 135 114 371 195 223 224  70 415]\n"
          ]
        }
      ]
    },
    {
      "cell_type": "code",
      "source": [
        "x = x.reshape(-1, 1)\n",
        "x.shape"
      ],
      "metadata": {
        "colab": {
          "base_uri": "https://localhost:8080/"
        },
        "id": "6zKus3mD-CSt",
        "outputId": "15392d9a-5a34-483c-ac3c-96d3021d922d"
      },
      "execution_count": 7,
      "outputs": [
        {
          "output_type": "execute_result",
          "data": {
            "text/plain": [
              "(30, 1)"
            ]
          },
          "metadata": {},
          "execution_count": 7
        }
      ]
    },
    {
      "cell_type": "code",
      "source": [
        "from sklearn.linear_model import LinearRegression #memanggil model regresi linear\n",
        "\n",
        "model = LinearRegression() #variabel model bisa diganti\n",
        "model.fit(x, y) "
      ],
      "metadata": {
        "colab": {
          "base_uri": "https://localhost:8080/"
        },
        "id": "gV8yZFMK-ELu",
        "outputId": "a352c7e4-046b-4b8a-9742-143edd372474"
      },
      "execution_count": 8,
      "outputs": [
        {
          "output_type": "execute_result",
          "data": {
            "text/plain": [
              "LinearRegression()"
            ]
          },
          "metadata": {},
          "execution_count": 8
        }
      ]
    },
    {
      "cell_type": "code",
      "source": [
        "x_vis = np.array([0, 1000]).reshape(-1, 1) #pembuatan garis merah dari x\n",
        "y_vis = model.predict(x_vis) #model mesin lerning"
      ],
      "metadata": {
        "id": "SDhMiCEQ-HgL"
      },
      "execution_count": 9,
      "outputs": []
    },
    {
      "cell_type": "code",
      "source": [
        "plt.scatter(x, y)\n",
        "plt.plot(x_vis, y_vis, '-r')\n",
        "plt.title('tabel kesehatan')\n",
        "plt.xlabel('Jumlah Balita Penderita Pneumonia (L)')\n",
        "plt.ylabel('Jumlah Balita Penderita Pneumonia (P)')\n",
        "plt.xlim(0, 1000)\n",
        "plt.ylim(0, 1000)\n",
        "plt.grid(True)\n",
        "plt.show()"
      ],
      "metadata": {
        "colab": {
          "base_uri": "https://localhost:8080/",
          "height": 295
        },
        "id": "zqbDrcLR-Khf",
        "outputId": "e2a674b4-a60b-4669-955e-a7238ad3fb60"
      },
      "execution_count": 10,
      "outputs": [
        {
          "output_type": "display_data",
          "data": {
            "text/plain": [
              "<Figure size 432x288 with 1 Axes>"
            ],
            "image/png": "[encoded data removed]"
          },
          "metadata": {
            "needs_background": "light"
          }
        }
      ]
    },
    {
      "cell_type": "code",
      "source": [
        "print(f'intercept  :  {model.intercept_}')\n",
        "print(f'slope : {model.coef_}')"
      ],
      "metadata": {
        "colab": {
          "base_uri": "https://localhost:8080/"
        },
        "id": "mfpp7arG-RZm",
        "outputId": "02fc8077-e087-4c36-c24d-ca3d5a8c7341"
      },
      "execution_count": 11,
      "outputs": [
        {
          "output_type": "stream",
          "name": "stdout",
          "text": [
            "intercept  :  11.001646972333901\n",
            "slope : [0.84596715]\n"
          ]
        }
      ]
    },
    {
      "cell_type": "code",
      "source": [
        "rat = np.array([300\t, 448, 575\t, 650, 700]).reshape(-1, 1)\n",
        "rat"
      ],
      "metadata": {
        "colab": {
          "base_uri": "https://localhost:8080/"
        },
        "id": "T1RWtiuF-Vsv",
        "outputId": "8f4c9a42-7349-4c88-c62d-8a0c9d07e7fc"
      },
      "execution_count": 12,
      "outputs": [
        {
          "output_type": "execute_result",
          "data": {
            "text/plain": [
              "array([[300],\n",
              "       [448],\n",
              "       [575],\n",
              "       [650],\n",
              "       [700]])"
            ]
          },
          "metadata": {},
          "execution_count": 12
        }
      ]
    },
    {
      "cell_type": "code",
      "source": [
        "prediksi_indeks = model.predict(rat)\n",
        "prediksi_indeks"
      ],
      "metadata": {
        "colab": {
          "base_uri": "https://localhost:8080/"
        },
        "id": "Mi7lbMgD-mAA",
        "outputId": "65a50282-af9d-4cb5-9a90-a06e104a8f2e"
      },
      "execution_count": 13,
      "outputs": [
        {
          "output_type": "execute_result",
          "data": {
            "text/plain": [
              "array([264.79179127, 389.99492912, 497.43275688, 560.88029295,\n",
              "       603.17865033])"
            ]
          },
          "metadata": {},
          "execution_count": 13
        }
      ]
    },
    {
      "cell_type": "code",
      "source": [
        "for total, index in zip(rat, prediksi_indeks):\n",
        "  print(f'jumlah : {total} prediksi indeks : {index}')"
      ],
      "metadata": {
        "colab": {
          "base_uri": "https://localhost:8080/"
        },
        "id": "XNwHaV4y-oRu",
        "outputId": "affc14f9-dda4-470a-d79e-4d8988ca3f78"
      },
      "execution_count": 14,
      "outputs": [
        {
          "output_type": "stream",
          "name": "stdout",
          "text": [
            "jumlah : [300] prediksi indeks : 264.7917912696878\n",
            "jumlah : [448] prediksi indeks : 389.994929123049\n",
            "jumlah : [575] prediksi indeks : 497.43275687559554\n",
            "jumlah : [650] prediksi indeks : 560.880292949934\n",
            "jumlah : [700] prediksi indeks : 603.1786503328264\n"
          ]
        }
      ]
    },
    {
      "cell_type": "code",
      "source": [
        "print(\"Jumlah Balita Penderita Pneumonia (L) : \")\n",
        "df['Jumlah Balita Penderita Pneumonia (L)'].sum()"
      ],
      "metadata": {
        "colab": {
          "base_uri": "https://localhost:8080/"
        },
        "id": "NVom9-Ct-qMC",
        "outputId": "3592031f-7f10-4760-ba9c-19a2869a0014"
      },
      "execution_count": 20,
      "outputs": [
        {
          "output_type": "stream",
          "name": "stdout",
          "text": [
            "Jumlah Balita Penderita Pneumonia (L) : \n"
          ]
        },
        {
          "output_type": "execute_result",
          "data": {
            "text/plain": [
              "8505"
            ]
          },
          "metadata": {},
          "execution_count": 20
        }
      ]
    },
    {
      "cell_type": "code",
      "source": [
        "print(\"Jumlah Balita Penderita Pneumonia (P) : \")\n",
        "df['Jumlah Balita Penderita Pneumonia (P)'].sum()"
      ],
      "metadata": {
        "colab": {
          "base_uri": "https://localhost:8080/"
        },
        "id": "9j0wQ9G-_M2Y",
        "outputId": "07438fb0-9b56-4a0a-8456-4b4adffe9e0a"
      },
      "execution_count": 21,
      "outputs": [
        {
          "output_type": "stream",
          "name": "stdout",
          "text": [
            "Jumlah Balita Penderita Pneumonia (P) : \n"
          ]
        },
        {
          "output_type": "execute_result",
          "data": {
            "text/plain": [
              "7525"
            ]
          },
          "metadata": {},
          "execution_count": 21
        }
      ]
    },
    {
      "cell_type": "code",
      "source": [
        "import matplotlib.pyplot as plt\n",
        "fig = plt.figure()\n",
        "ax = fig.add_axes([0,0,1,1])\n",
        "perusahaan = [\"Balita Penderita Pneumonia (P)\", \"Jumlah Balita Penderita Pneumonia (L)\"]\n",
        "angka = [7525, 8505]\n",
        "c = ['blue', 'green']\n",
        "plt.title(\"Tabel Data Jumlah Balita Penderita Pneumonia \")\n",
        "plt.bar(perusahaan, angka, color = c)\n",
        "plt.show()\n",
        "\n",
        "print(\"\")\n",
        "fig = plt.figure()\n",
        "ax = fig.add_axes([0,0,1,1])\n",
        "ax.axis('equal')\n",
        "perusahaan = [\"Balita Penderita Pneumonia (P)\", \"Jumlah Balita Penderita Pneumonia (L)\"]\n",
        "angka = [7525, 8505]\n",
        "ax.pie(angka, labels=perusahaan,autopct='%1.2f%%')\n",
        "plt.title(\"Tabel Data Jumlah Balita Penderita Pneumonia \")\n",
        "plt.show()"
      ],
      "metadata": {
        "colab": {
          "base_uri": "https://localhost:8080/",
          "height": 687
        },
        "id": "SBfkhrOy_3Kt",
        "outputId": "5c6988a3-bcee-4f17-987f-948ab0689609"
      },
      "execution_count": 23,
      "outputs": [
        {
          "output_type": "display_data",
          "data": {
            "text/plain": [
              "<Figure size 432x288 with 1 Axes>"
            ],
            "image/png": "[encoded data removed]"
          },
          "metadata": {
            "needs_background": "light"
          }
        },
        {
          "output_type": "stream",
          "name": "stdout",
          "text": [
            "\n"
          ]
        },
        {
          "output_type": "display_data",
          "data": {
            "text/plain": [
              "<Figure size 432x288 with 1 Axes>"
            ],
            "image/png": "[encoded data removed]"
          },
          "metadata": {}
        }
      ]
    }
  ]
}