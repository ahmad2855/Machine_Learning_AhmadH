{
  "nbformat": 4,
  "nbformat_minor": 0,
  "metadata": {
    "colab": {
      "provenance": []
    },
    "kernelspec": {
      "name": "python3",
      "display_name": "Python 3"
    },
    "language_info": {
      "name": "python"
    }
  },
  "cells": [
    {
      "cell_type": "code",
      "execution_count": 1,
      "metadata": {
        "colab": {
          "base_uri": "https://localhost:8080/"
        },
        "id": "SRDgmaO7i9b2",
        "outputId": "b69bd0af-1de1-465c-a76a-7299bebaf914"
      },
      "outputs": [
        {
          "output_type": "stream",
          "name": "stdout",
          "text": [
            "Drive already mounted at /content/drive; to attempt to forcibly remount, call drive.mount(\"/content/drive\", force_remount=True).\n"
          ]
        }
      ],
      "source": [
        "import pandas as pd\n",
        "from google.colab import drive #memanggil package import drive\n",
        "drive.mount('/content/drive')"
      ]
    },
    {
      "cell_type": "code",
      "source": [
        "path = '/content/drive/MyDrive/CSV/data2x spreadsheet - Sheet1.csv'\n",
        "\n",
        "\n",
        "df = pd.read_csv(path)\n",
        "\n",
        "df.describe()"
      ],
      "metadata": {
        "colab": {
          "base_uri": "https://localhost:8080/",
          "height": 300
        },
        "id": "QAJnD2MljjCy",
        "outputId": "7f0bc752-faa3-40b4-fcb6-536739920f8d"
      },
      "execution_count": 22,
      "outputs": [
        {
          "output_type": "execute_result",
          "data": {
            "text/plain": [
              "            pm10        so2         co         o3        max\n",
              "count  36.000000  36.000000  36.000000  36.000000  36.000000\n",
              "mean   58.694444  26.361111  30.472222  22.750000  58.750000\n",
              "std    12.082619   6.401575   5.613688   9.622518  12.027053\n",
              "min    32.000000   5.000000  19.000000  10.000000  32.000000\n",
              "25%    52.750000  28.000000  27.750000  15.000000  52.750000\n",
              "50%    57.500000  29.000000  29.500000  21.000000  57.500000\n",
              "75%    64.000000  29.000000  33.000000  27.000000  64.000000\n",
              "max    90.000000  30.000000  46.000000  53.000000  90.000000"
            ],
            "text/html": [
              "\n",
              "  <div id=\"df-34cb1ff6-dff2-491f-947a-4af36b73bb47\">\n",
              "    <div class=\"colab-df-container\">\n",
              "      <div>\n",
              "<style scoped>\n",
              "    .dataframe tbody tr th:only-of-type {\n",
              "        vertical-align: middle;\n",
              "    }\n",
              "\n",
              "    .dataframe tbody tr th {\n",
              "        vertical-align: top;\n",
              "    }\n",
              "\n",
              "    .dataframe thead th {\n",
              "        text-align: right;\n",
              "    }\n",
              "</style>\n",
              "<table border=\"1\" class=\"dataframe\">\n",
              "  <thead>\n",
              "    <tr style=\"text-align: right;\">\n",
              "      <th></th>\n",
              "      <th>pm10</th>\n",
              "      <th>so2</th>\n",
              "      <th>co</th>\n",
              "      <th>o3</th>\n",
              "      <th>max</th>\n",
              "    </tr>\n",
              "  </thead>\n",
              "  <tbody>\n",
              "    <tr>\n",
              "      <th>count</th>\n",
              "      <td>36.000000</td>\n",
              "      <td>36.000000</td>\n",
              "      <td>36.000000</td>\n",
              "      <td>36.000000</td>\n",
              "      <td>36.000000</td>\n",
              "    </tr>\n",
              "    <tr>\n",
              "      <th>mean</th>\n",
              "      <td>58.694444</td>\n",
              "      <td>26.361111</td>\n",
              "      <td>30.472222</td>\n",
              "      <td>22.750000</td>\n",
              "      <td>58.750000</td>\n",
              "    </tr>\n",
              "    <tr>\n",
              "      <th>std</th>\n",
              "      <td>12.082619</td>\n",
              "      <td>6.401575</td>\n",
              "      <td>5.613688</td>\n",
              "      <td>9.622518</td>\n",
              "      <td>12.027053</td>\n",
              "    </tr>\n",
              "    <tr>\n",
              "      <th>min</th>\n",
              "      <td>32.000000</td>\n",
              "      <td>5.000000</td>\n",
              "      <td>19.000000</td>\n",
              "      <td>10.000000</td>\n",
              "      <td>32.000000</td>\n",
              "    </tr>\n",
              "    <tr>\n",
              "      <th>25%</th>\n",
              "      <td>52.750000</td>\n",
              "      <td>28.000000</td>\n",
              "      <td>27.750000</td>\n",
              "      <td>15.000000</td>\n",
              "      <td>52.750000</td>\n",
              "    </tr>\n",
              "    <tr>\n",
              "      <th>50%</th>\n",
              "      <td>57.500000</td>\n",
              "      <td>29.000000</td>\n",
              "      <td>29.500000</td>\n",
              "      <td>21.000000</td>\n",
              "      <td>57.500000</td>\n",
              "    </tr>\n",
              "    <tr>\n",
              "      <th>75%</th>\n",
              "      <td>64.000000</td>\n",
              "      <td>29.000000</td>\n",
              "      <td>33.000000</td>\n",
              "      <td>27.000000</td>\n",
              "      <td>64.000000</td>\n",
              "    </tr>\n",
              "    <tr>\n",
              "      <th>max</th>\n",
              "      <td>90.000000</td>\n",
              "      <td>30.000000</td>\n",
              "      <td>46.000000</td>\n",
              "      <td>53.000000</td>\n",
              "      <td>90.000000</td>\n",
              "    </tr>\n",
              "  </tbody>\n",
              "</table>\n",
              "</div>\n",
              "      <button class=\"colab-df-convert\" onclick=\"convertToInteractive('df-34cb1ff6-dff2-491f-947a-4af36b73bb47')\"\n",
              "              title=\"Convert this dataframe to an interactive table.\"\n",
              "              style=\"display:none;\">\n",
              "        \n",
              "  <svg xmlns=\"http://www.w3.org/2000/svg\" height=\"24px\"viewBox=\"0 0 24 24\"\n",
              "       width=\"24px\">\n",
              "    <path d=\"M0 0h24v24H0V0z\" fill=\"none\"/>\n",
              "    <path d=\"M18.56 5.44l.94 2.06.94-2.06 2.06-.94-2.06-.94-.94-2.06-.94 2.06-2.06.94zm-11 1L8.5 8.5l.94-2.06 2.06-.94-2.06-.94L8.5 2.5l-.94 2.06-2.06.94zm10 10l.94 2.06.94-2.06 2.06-.94-2.06-.94-.94-2.06-.94 2.06-2.06.94z\"/><path d=\"M17.41 7.96l-1.37-1.37c-.4-.4-.92-.59-1.43-.59-.52 0-1.04.2-1.43.59L10.3 9.45l-7.72 7.72c-.78.78-.78 2.05 0 2.83L4 21.41c.39.39.9.59 1.41.59.51 0 1.02-.2 1.41-.59l7.78-7.78 2.81-2.81c.8-.78.8-2.07 0-2.86zM5.41 20L4 18.59l7.72-7.72 1.47 1.35L5.41 20z\"/>\n",
              "  </svg>\n",
              "      </button>\n",
              "      \n",
              "  <style>\n",
              "    .colab-df-container {\n",
              "      display:flex;\n",
              "      flex-wrap:wrap;\n",
              "      gap: 12px;\n",
              "    }\n",
              "\n",
              "    .colab-df-convert {\n",
              "      background-color: #E8F0FE;\n",
              "      border: none;\n",
              "      border-radius: 50%;\n",
              "      cursor: pointer;\n",
              "      display: none;\n",
              "      fill: #1967D2;\n",
              "      height: 32px;\n",
              "      padding: 0 0 0 0;\n",
              "      width: 32px;\n",
              "    }\n",
              "\n",
              "    .colab-df-convert:hover {\n",
              "      background-color: #E2EBFA;\n",
              "      box-shadow: 0px 1px 2px rgba(60, 64, 67, 0.3), 0px 1px 3px 1px rgba(60, 64, 67, 0.15);\n",
              "      fill: #174EA6;\n",
              "    }\n",
              "\n",
              "    [theme=dark] .colab-df-convert {\n",
              "      background-color: #3B4455;\n",
              "      fill: #D2E3FC;\n",
              "    }\n",
              "\n",
              "    [theme=dark] .colab-df-convert:hover {\n",
              "      background-color: #434B5C;\n",
              "      box-shadow: 0px 1px 3px 1px rgba(0, 0, 0, 0.15);\n",
              "      filter: drop-shadow(0px 1px 2px rgba(0, 0, 0, 0.3));\n",
              "      fill: #FFFFFF;\n",
              "    }\n",
              "  </style>\n",
              "\n",
              "      <script>\n",
              "        const buttonEl =\n",
              "          document.querySelector('#df-34cb1ff6-dff2-491f-947a-4af36b73bb47 button.colab-df-convert');\n",
              "        buttonEl.style.display =\n",
              "          google.colab.kernel.accessAllowed ? 'block' : 'none';\n",
              "\n",
              "        async function convertToInteractive(key) {\n",
              "          const element = document.querySelector('#df-34cb1ff6-dff2-491f-947a-4af36b73bb47');\n",
              "          const dataTable =\n",
              "            await google.colab.kernel.invokeFunction('convertToInteractive',\n",
              "                                                     [key], {});\n",
              "          if (!dataTable) return;\n",
              "\n",
              "          const docLinkHtml = 'Like what you see? Visit the ' +\n",
              "            '<a target=\"_blank\" href=https://colab.research.google.com/notebooks/data_table.ipynb>data table notebook</a>'\n",
              "            + ' to learn more about interactive tables.';\n",
              "          element.innerHTML = '';\n",
              "          dataTable['output_type'] = 'display_data';\n",
              "          await google.colab.output.renderOutput(dataTable, element);\n",
              "          const docLink = document.createElement('div');\n",
              "          docLink.innerHTML = docLinkHtml;\n",
              "          element.appendChild(docLink);\n",
              "        }\n",
              "      </script>\n",
              "    </div>\n",
              "  </div>\n",
              "  "
            ]
          },
          "metadata": {},
          "execution_count": 22
        }
      ]
    },
    {
      "cell_type": "code",
      "source": [
        "df"
      ],
      "metadata": {
        "colab": {
          "base_uri": "https://localhost:8080/",
          "height": 1000
        },
        "id": "IVA2CIdlkzKA",
        "outputId": "141ed518-063e-4b5e-fe26-e2074d024776"
      },
      "execution_count": 23,
      "outputs": [
        {
          "output_type": "execute_result",
          "data": {
            "text/plain": [
              "       tanggal               stasiun  pm10  so2  co  o3  no2  max critical  \\\n",
              "0   2016-05-01    DKI1 (Bunderan HI)    53   29  32  14    7   53     PM10   \n",
              "1   2016-05-02    DKI1 (Bunderan HI)    47   29  29  17    3   47     PM10   \n",
              "2   2016-05-03    DKI1 (Bunderan HI)    57   29  29  14    1   57     PM10   \n",
              "3   2016-05-04    DKI1 (Bunderan HI)    52   30  27  12    1   52     PM10   \n",
              "4   2016-05-05    DKI1 (Bunderan HI)    51   28  28  10    1   51     PM10   \n",
              "5   2016-05-06    DKI1 (Bunderan HI)    81   29  46  26    5   81     PM10   \n",
              "6   2016-05-07    DKI1 (Bunderan HI)    59   28  28  21    3   59     PM10   \n",
              "7   2016-05-08    DKI1 (Bunderan HI)    66   28  34  31    3   66     PM10   \n",
              "8   2016-05-09    DKI1 (Bunderan HI)    64   29  33  27    5   64     PM10   \n",
              "9   2016-05-10    DKI1 (Bunderan HI)    58   29  30  22    4   58     PM10   \n",
              "10  2016-05-11    DKI1 (Bunderan HI)    56   30  27  14    2   56     PM10   \n",
              "11  2016-05-12    DKI1 (Bunderan HI)    60   30  29  25    5   60     PM10   \n",
              "12  2016-05-13    DKI1 (Bunderan HI)    52   29  29  19    3   52     PM10   \n",
              "13  2016-05-14    DKI1 (Bunderan HI)    55   28  28  23    3   55     PM10   \n",
              "14  2016-05-15    DKI1 (Bunderan HI)    54   30  26  16    2   54     PM10   \n",
              "15  2016-05-16    DKI1 (Bunderan HI)    32   29  31  15    4   32     PM10   \n",
              "16  2016-05-17    DKI1 (Bunderan HI)    77   29  33  21    5   77     PM10   \n",
              "17  2016-05-18    DKI1 (Bunderan HI)    76   30  41  15    3   76     PM10   \n",
              "18  2016-05-19    DKI1 (Bunderan HI)    58   29  31  22    4   58     PM10   \n",
              "19  2016-05-20    DKI1 (Bunderan HI)    61   29  30  24    6   61     PM10   \n",
              "20  2016-05-21    DKI1 (Bunderan HI)    38   28  29  21    5   38     PM10   \n",
              "21  2016-05-22    DKI1 (Bunderan HI)    61   28  29  29    3   61     PM10   \n",
              "22  2016-05-23    DKI1 (Bunderan HI)    53   28  27  29    4   53     PM10   \n",
              "23  2016-05-24    DKI1 (Bunderan HI)    64   28  34  27    4   64     PM10   \n",
              "24  2016-05-25    DKI1 (Bunderan HI)    45   28  32  12    3   45     PM10   \n",
              "25  2016-05-26    DKI1 (Bunderan HI)    61   29  34  13    4   61     PM10   \n",
              "26  2016-05-27    DKI1 (Bunderan HI)    84   29  40  17  ---   84     PM10   \n",
              "27  2016-05-28    DKI1 (Bunderan HI)    90   29  41  21    3   90     PM10   \n",
              "28  2016-05-29    DKI1 (Bunderan HI)    44   28  27  14    2   44     PM10   \n",
              "29  2016-05-30    DKI1 (Bunderan HI)    65   29  35  18    4   65     PM10   \n",
              "30  2016-05-31    DKI1 (Bunderan HI)    65   29  31  31    4   65     PM10   \n",
              "31  2016-05-01  DKI2 (Kelapa Gading)    46   13  33  48   16   48       O3   \n",
              "32  2016-05-02  DKI2 (Kelapa Gading)    54   14  23  53   12   54     PM10   \n",
              "33  2016-05-03  DKI2 (Kelapa Gading)    62   12  21  36   10   62     PM10   \n",
              "34  2016-05-04  DKI2 (Kelapa Gading)    56   11  19  35    8   56     PM10   \n",
              "35  2016-05-05  DKI2 (Kelapa Gading)    56    5  21  27    9   56     PM10   \n",
              "\n",
              "   categori  \n",
              "0    SEDANG  \n",
              "1      BAIK  \n",
              "2    SEDANG  \n",
              "3    SEDANG  \n",
              "4    SEDANG  \n",
              "5    SEDANG  \n",
              "6    SEDANG  \n",
              "7    SEDANG  \n",
              "8    SEDANG  \n",
              "9    SEDANG  \n",
              "10   SEDANG  \n",
              "11   SEDANG  \n",
              "12   SEDANG  \n",
              "13   SEDANG  \n",
              "14   SEDANG  \n",
              "15     BAIK  \n",
              "16   SEDANG  \n",
              "17   SEDANG  \n",
              "18   SEDANG  \n",
              "19   SEDANG  \n",
              "20     BAIK  \n",
              "21   SEDANG  \n",
              "22   SEDANG  \n",
              "23   SEDANG  \n",
              "24     BAIK  \n",
              "25   SEDANG  \n",
              "26   SEDANG  \n",
              "27   SEDANG  \n",
              "28     BAIK  \n",
              "29   SEDANG  \n",
              "30   SEDANG  \n",
              "31     BAIK  \n",
              "32   SEDANG  \n",
              "33   SEDANG  \n",
              "34   SEDANG  \n",
              "35   SEDANG  "
            ],
            "text/html": [
              "\n",
              "  <div id=\"df-1a81aa30-d8a4-43e3-928a-91890264dc5e\">\n",
              "    <div class=\"colab-df-container\">\n",
              "      <div>\n",
              "<style scoped>\n",
              "    .dataframe tbody tr th:only-of-type {\n",
              "        vertical-align: middle;\n",
              "    }\n",
              "\n",
              "    .dataframe tbody tr th {\n",
              "        vertical-align: top;\n",
              "    }\n",
              "\n",
              "    .dataframe thead th {\n",
              "        text-align: right;\n",
              "    }\n",
              "</style>\n",
              "<table border=\"1\" class=\"dataframe\">\n",
              "  <thead>\n",
              "    <tr style=\"text-align: right;\">\n",
              "      <th></th>\n",
              "      <th>tanggal</th>\n",
              "      <th>stasiun</th>\n",
              "      <th>pm10</th>\n",
              "      <th>so2</th>\n",
              "      <th>co</th>\n",
              "      <th>o3</th>\n",
              "      <th>no2</th>\n",
              "      <th>max</th>\n",
              "      <th>critical</th>\n",
              "      <th>categori</th>\n",
              "    </tr>\n",
              "  </thead>\n",
              "  <tbody>\n",
              "    <tr>\n",
              "      <th>0</th>\n",
              "      <td>2016-05-01</td>\n",
              "      <td>DKI1 (Bunderan HI)</td>\n",
              "      <td>53</td>\n",
              "      <td>29</td>\n",
              "      <td>32</td>\n",
              "      <td>14</td>\n",
              "      <td>7</td>\n",
              "      <td>53</td>\n",
              "      <td>PM10</td>\n",
              "      <td>SEDANG</td>\n",
              "    </tr>\n",
              "    <tr>\n",
              "      <th>1</th>\n",
              "      <td>2016-05-02</td>\n",
              "      <td>DKI1 (Bunderan HI)</td>\n",
              "      <td>47</td>\n",
              "      <td>29</td>\n",
              "      <td>29</td>\n",
              "      <td>17</td>\n",
              "      <td>3</td>\n",
              "      <td>47</td>\n",
              "      <td>PM10</td>\n",
              "      <td>BAIK</td>\n",
              "    </tr>\n",
              "    <tr>\n",
              "      <th>2</th>\n",
              "      <td>2016-05-03</td>\n",
              "      <td>DKI1 (Bunderan HI)</td>\n",
              "      <td>57</td>\n",
              "      <td>29</td>\n",
              "      <td>29</td>\n",
              "      <td>14</td>\n",
              "      <td>1</td>\n",
              "      <td>57</td>\n",
              "      <td>PM10</td>\n",
              "      <td>SEDANG</td>\n",
              "    </tr>\n",
              "    <tr>\n",
              "      <th>3</th>\n",
              "      <td>2016-05-04</td>\n",
              "      <td>DKI1 (Bunderan HI)</td>\n",
              "      <td>52</td>\n",
              "      <td>30</td>\n",
              "      <td>27</td>\n",
              "      <td>12</td>\n",
              "      <td>1</td>\n",
              "      <td>52</td>\n",
              "      <td>PM10</td>\n",
              "      <td>SEDANG</td>\n",
              "    </tr>\n",
              "    <tr>\n",
              "      <th>4</th>\n",
              "      <td>2016-05-05</td>\n",
              "      <td>DKI1 (Bunderan HI)</td>\n",
              "      <td>51</td>\n",
              "      <td>28</td>\n",
              "      <td>28</td>\n",
              "      <td>10</td>\n",
              "      <td>1</td>\n",
              "      <td>51</td>\n",
              "      <td>PM10</td>\n",
              "      <td>SEDANG</td>\n",
              "    </tr>\n",
              "    <tr>\n",
              "      <th>5</th>\n",
              "      <td>2016-05-06</td>\n",
              "      <td>DKI1 (Bunderan HI)</td>\n",
              "      <td>81</td>\n",
              "      <td>29</td>\n",
              "      <td>46</td>\n",
              "      <td>26</td>\n",
              "      <td>5</td>\n",
              "      <td>81</td>\n",
              "      <td>PM10</td>\n",
              "      <td>SEDANG</td>\n",
              "    </tr>\n",
              "    <tr>\n",
              "      <th>6</th>\n",
              "      <td>2016-05-07</td>\n",
              "      <td>DKI1 (Bunderan HI)</td>\n",
              "      <td>59</td>\n",
              "      <td>28</td>\n",
              "      <td>28</td>\n",
              "      <td>21</td>\n",
              "      <td>3</td>\n",
              "      <td>59</td>\n",
              "      <td>PM10</td>\n",
              "      <td>SEDANG</td>\n",
              "    </tr>\n",
              "    <tr>\n",
              "      <th>7</th>\n",
              "      <td>2016-05-08</td>\n",
              "      <td>DKI1 (Bunderan HI)</td>\n",
              "      <td>66</td>\n",
              "      <td>28</td>\n",
              "      <td>34</td>\n",
              "      <td>31</td>\n",
              "      <td>3</td>\n",
              "      <td>66</td>\n",
              "      <td>PM10</td>\n",
              "      <td>SEDANG</td>\n",
              "    </tr>\n",
              "    <tr>\n",
              "      <th>8</th>\n",
              "      <td>2016-05-09</td>\n",
              "      <td>DKI1 (Bunderan HI)</td>\n",
              "      <td>64</td>\n",
              "      <td>29</td>\n",
              "      <td>33</td>\n",
              "      <td>27</td>\n",
              "      <td>5</td>\n",
              "      <td>64</td>\n",
              "      <td>PM10</td>\n",
              "      <td>SEDANG</td>\n",
              "    </tr>\n",
              "    <tr>\n",
              "      <th>9</th>\n",
              "      <td>2016-05-10</td>\n",
              "      <td>DKI1 (Bunderan HI)</td>\n",
              "      <td>58</td>\n",
              "      <td>29</td>\n",
              "      <td>30</td>\n",
              "      <td>22</td>\n",
              "      <td>4</td>\n",
              "      <td>58</td>\n",
              "      <td>PM10</td>\n",
              "      <td>SEDANG</td>\n",
              "    </tr>\n",
              "    <tr>\n",
              "      <th>10</th>\n",
              "      <td>2016-05-11</td>\n",
              "      <td>DKI1 (Bunderan HI)</td>\n",
              "      <td>56</td>\n",
              "      <td>30</td>\n",
              "      <td>27</td>\n",
              "      <td>14</td>\n",
              "      <td>2</td>\n",
              "      <td>56</td>\n",
              "      <td>PM10</td>\n",
              "      <td>SEDANG</td>\n",
              "    </tr>\n",
              "    <tr>\n",
              "      <th>11</th>\n",
              "      <td>2016-05-12</td>\n",
              "      <td>DKI1 (Bunderan HI)</td>\n",
              "      <td>60</td>\n",
              "      <td>30</td>\n",
              "      <td>29</td>\n",
              "      <td>25</td>\n",
              "      <td>5</td>\n",
              "      <td>60</td>\n",
              "      <td>PM10</td>\n",
              "      <td>SEDANG</td>\n",
              "    </tr>\n",
              "    <tr>\n",
              "      <th>12</th>\n",
              "      <td>2016-05-13</td>\n",
              "      <td>DKI1 (Bunderan HI)</td>\n",
              "      <td>52</td>\n",
              "      <td>29</td>\n",
              "      <td>29</td>\n",
              "      <td>19</td>\n",
              "      <td>3</td>\n",
              "      <td>52</td>\n",
              "      <td>PM10</td>\n",
              "      <td>SEDANG</td>\n",
              "    </tr>\n",
              "    <tr>\n",
              "      <th>13</th>\n",
              "      <td>2016-05-14</td>\n",
              "      <td>DKI1 (Bunderan HI)</td>\n",
              "      <td>55</td>\n",
              "      <td>28</td>\n",
              "      <td>28</td>\n",
              "      <td>23</td>\n",
              "      <td>3</td>\n",
              "      <td>55</td>\n",
              "      <td>PM10</td>\n",
              "      <td>SEDANG</td>\n",
              "    </tr>\n",
              "    <tr>\n",
              "      <th>14</th>\n",
              "      <td>2016-05-15</td>\n",
              "      <td>DKI1 (Bunderan HI)</td>\n",
              "      <td>54</td>\n",
              "      <td>30</td>\n",
              "      <td>26</td>\n",
              "      <td>16</td>\n",
              "      <td>2</td>\n",
              "      <td>54</td>\n",
              "      <td>PM10</td>\n",
              "      <td>SEDANG</td>\n",
              "    </tr>\n",
              "    <tr>\n",
              "      <th>15</th>\n",
              "      <td>2016-05-16</td>\n",
              "      <td>DKI1 (Bunderan HI)</td>\n",
              "      <td>32</td>\n",
              "      <td>29</td>\n",
              "      <td>31</td>\n",
              "      <td>15</td>\n",
              "      <td>4</td>\n",
              "      <td>32</td>\n",
              "      <td>PM10</td>\n",
              "      <td>BAIK</td>\n",
              "    </tr>\n",
              "    <tr>\n",
              "      <th>16</th>\n",
              "      <td>2016-05-17</td>\n",
              "      <td>DKI1 (Bunderan HI)</td>\n",
              "      <td>77</td>\n",
              "      <td>29</td>\n",
              "      <td>33</td>\n",
              "      <td>21</td>\n",
              "      <td>5</td>\n",
              "      <td>77</td>\n",
              "      <td>PM10</td>\n",
              "      <td>SEDANG</td>\n",
              "    </tr>\n",
              "    <tr>\n",
              "      <th>17</th>\n",
              "      <td>2016-05-18</td>\n",
              "      <td>DKI1 (Bunderan HI)</td>\n",
              "      <td>76</td>\n",
              "      <td>30</td>\n",
              "      <td>41</td>\n",
              "      <td>15</td>\n",
              "      <td>3</td>\n",
              "      <td>76</td>\n",
              "      <td>PM10</td>\n",
              "      <td>SEDANG</td>\n",
              "    </tr>\n",
              "    <tr>\n",
              "      <th>18</th>\n",
              "      <td>2016-05-19</td>\n",
              "      <td>DKI1 (Bunderan HI)</td>\n",
              "      <td>58</td>\n",
              "      <td>29</td>\n",
              "      <td>31</td>\n",
              "      <td>22</td>\n",
              "      <td>4</td>\n",
              "      <td>58</td>\n",
              "      <td>PM10</td>\n",
              "      <td>SEDANG</td>\n",
              "    </tr>\n",
              "    <tr>\n",
              "      <th>19</th>\n",
              "      <td>2016-05-20</td>\n",
              "      <td>DKI1 (Bunderan HI)</td>\n",
              "      <td>61</td>\n",
              "      <td>29</td>\n",
              "      <td>30</td>\n",
              "      <td>24</td>\n",
              "      <td>6</td>\n",
              "      <td>61</td>\n",
              "      <td>PM10</td>\n",
              "      <td>SEDANG</td>\n",
              "    </tr>\n",
              "    <tr>\n",
              "      <th>20</th>\n",
              "      <td>2016-05-21</td>\n",
              "      <td>DKI1 (Bunderan HI)</td>\n",
              "      <td>38</td>\n",
              "      <td>28</td>\n",
              "      <td>29</td>\n",
              "      <td>21</td>\n",
              "      <td>5</td>\n",
              "      <td>38</td>\n",
              "      <td>PM10</td>\n",
              "      <td>BAIK</td>\n",
              "    </tr>\n",
              "    <tr>\n",
              "      <th>21</th>\n",
              "      <td>2016-05-22</td>\n",
              "      <td>DKI1 (Bunderan HI)</td>\n",
              "      <td>61</td>\n",
              "      <td>28</td>\n",
              "      <td>29</td>\n",
              "      <td>29</td>\n",
              "      <td>3</td>\n",
              "      <td>61</td>\n",
              "      <td>PM10</td>\n",
              "      <td>SEDANG</td>\n",
              "    </tr>\n",
              "    <tr>\n",
              "      <th>22</th>\n",
              "      <td>2016-05-23</td>\n",
              "      <td>DKI1 (Bunderan HI)</td>\n",
              "      <td>53</td>\n",
              "      <td>28</td>\n",
              "      <td>27</td>\n",
              "      <td>29</td>\n",
              "      <td>4</td>\n",
              "      <td>53</td>\n",
              "      <td>PM10</td>\n",
              "      <td>SEDANG</td>\n",
              "    </tr>\n",
              "    <tr>\n",
              "      <th>23</th>\n",
              "      <td>2016-05-24</td>\n",
              "      <td>DKI1 (Bunderan HI)</td>\n",
              "      <td>64</td>\n",
              "      <td>28</td>\n",
              "      <td>34</td>\n",
              "      <td>27</td>\n",
              "      <td>4</td>\n",
              "      <td>64</td>\n",
              "      <td>PM10</td>\n",
              "      <td>SEDANG</td>\n",
              "    </tr>\n",
              "    <tr>\n",
              "      <th>24</th>\n",
              "      <td>2016-05-25</td>\n",
              "      <td>DKI1 (Bunderan HI)</td>\n",
              "      <td>45</td>\n",
              "      <td>28</td>\n",
              "      <td>32</td>\n",
              "      <td>12</td>\n",
              "      <td>3</td>\n",
              "      <td>45</td>\n",
              "      <td>PM10</td>\n",
              "      <td>BAIK</td>\n",
              "    </tr>\n",
              "    <tr>\n",
              "      <th>25</th>\n",
              "      <td>2016-05-26</td>\n",
              "      <td>DKI1 (Bunderan HI)</td>\n",
              "      <td>61</td>\n",
              "      <td>29</td>\n",
              "      <td>34</td>\n",
              "      <td>13</td>\n",
              "      <td>4</td>\n",
              "      <td>61</td>\n",
              "      <td>PM10</td>\n",
              "      <td>SEDANG</td>\n",
              "    </tr>\n",
              "    <tr>\n",
              "      <th>26</th>\n",
              "      <td>2016-05-27</td>\n",
              "      <td>DKI1 (Bunderan HI)</td>\n",
              "      <td>84</td>\n",
              "      <td>29</td>\n",
              "      <td>40</td>\n",
              "      <td>17</td>\n",
              "      <td>---</td>\n",
              "      <td>84</td>\n",
              "      <td>PM10</td>\n",
              "      <td>SEDANG</td>\n",
              "    </tr>\n",
              "    <tr>\n",
              "      <th>27</th>\n",
              "      <td>2016-05-28</td>\n",
              "      <td>DKI1 (Bunderan HI)</td>\n",
              "      <td>90</td>\n",
              "      <td>29</td>\n",
              "      <td>41</td>\n",
              "      <td>21</td>\n",
              "      <td>3</td>\n",
              "      <td>90</td>\n",
              "      <td>PM10</td>\n",
              "      <td>SEDANG</td>\n",
              "    </tr>\n",
              "    <tr>\n",
              "      <th>28</th>\n",
              "      <td>2016-05-29</td>\n",
              "      <td>DKI1 (Bunderan HI)</td>\n",
              "      <td>44</td>\n",
              "      <td>28</td>\n",
              "      <td>27</td>\n",
              "      <td>14</td>\n",
              "      <td>2</td>\n",
              "      <td>44</td>\n",
              "      <td>PM10</td>\n",
              "      <td>BAIK</td>\n",
              "    </tr>\n",
              "    <tr>\n",
              "      <th>29</th>\n",
              "      <td>2016-05-30</td>\n",
              "      <td>DKI1 (Bunderan HI)</td>\n",
              "      <td>65</td>\n",
              "      <td>29</td>\n",
              "      <td>35</td>\n",
              "      <td>18</td>\n",
              "      <td>4</td>\n",
              "      <td>65</td>\n",
              "      <td>PM10</td>\n",
              "      <td>SEDANG</td>\n",
              "    </tr>\n",
              "    <tr>\n",
              "      <th>30</th>\n",
              "      <td>2016-05-31</td>\n",
              "      <td>DKI1 (Bunderan HI)</td>\n",
              "      <td>65</td>\n",
              "      <td>29</td>\n",
              "      <td>31</td>\n",
              "      <td>31</td>\n",
              "      <td>4</td>\n",
              "      <td>65</td>\n",
              "      <td>PM10</td>\n",
              "      <td>SEDANG</td>\n",
              "    </tr>\n",
              "    <tr>\n",
              "      <th>31</th>\n",
              "      <td>2016-05-01</td>\n",
              "      <td>DKI2 (Kelapa Gading)</td>\n",
              "      <td>46</td>\n",
              "      <td>13</td>\n",
              "      <td>33</td>\n",
              "      <td>48</td>\n",
              "      <td>16</td>\n",
              "      <td>48</td>\n",
              "      <td>O3</td>\n",
              "      <td>BAIK</td>\n",
              "    </tr>\n",
              "    <tr>\n",
              "      <th>32</th>\n",
              "      <td>2016-05-02</td>\n",
              "      <td>DKI2 (Kelapa Gading)</td>\n",
              "      <td>54</td>\n",
              "      <td>14</td>\n",
              "      <td>23</td>\n",
              "      <td>53</td>\n",
              "      <td>12</td>\n",
              "      <td>54</td>\n",
              "      <td>PM10</td>\n",
              "      <td>SEDANG</td>\n",
              "    </tr>\n",
              "    <tr>\n",
              "      <th>33</th>\n",
              "      <td>2016-05-03</td>\n",
              "      <td>DKI2 (Kelapa Gading)</td>\n",
              "      <td>62</td>\n",
              "      <td>12</td>\n",
              "      <td>21</td>\n",
              "      <td>36</td>\n",
              "      <td>10</td>\n",
              "      <td>62</td>\n",
              "      <td>PM10</td>\n",
              "      <td>SEDANG</td>\n",
              "    </tr>\n",
              "    <tr>\n",
              "      <th>34</th>\n",
              "      <td>2016-05-04</td>\n",
              "      <td>DKI2 (Kelapa Gading)</td>\n",
              "      <td>56</td>\n",
              "      <td>11</td>\n",
              "      <td>19</td>\n",
              "      <td>35</td>\n",
              "      <td>8</td>\n",
              "      <td>56</td>\n",
              "      <td>PM10</td>\n",
              "      <td>SEDANG</td>\n",
              "    </tr>\n",
              "    <tr>\n",
              "      <th>35</th>\n",
              "      <td>2016-05-05</td>\n",
              "      <td>DKI2 (Kelapa Gading)</td>\n",
              "      <td>56</td>\n",
              "      <td>5</td>\n",
              "      <td>21</td>\n",
              "      <td>27</td>\n",
              "      <td>9</td>\n",
              "      <td>56</td>\n",
              "      <td>PM10</td>\n",
              "      <td>SEDANG</td>\n",
              "    </tr>\n",
              "  </tbody>\n",
              "</table>\n",
              "</div>\n",
              "      <button class=\"colab-df-convert\" onclick=\"convertToInteractive('df-1a81aa30-d8a4-43e3-928a-91890264dc5e')\"\n",
              "              title=\"Convert this dataframe to an interactive table.\"\n",
              "              style=\"display:none;\">\n",
              "        \n",
              "  <svg xmlns=\"http://www.w3.org/2000/svg\" height=\"24px\"viewBox=\"0 0 24 24\"\n",
              "       width=\"24px\">\n",
              "    <path d=\"M0 0h24v24H0V0z\" fill=\"none\"/>\n",
              "    <path d=\"M18.56 5.44l.94 2.06.94-2.06 2.06-.94-2.06-.94-.94-2.06-.94 2.06-2.06.94zm-11 1L8.5 8.5l.94-2.06 2.06-.94-2.06-.94L8.5 2.5l-.94 2.06-2.06.94zm10 10l.94 2.06.94-2.06 2.06-.94-2.06-.94-.94-2.06-.94 2.06-2.06.94z\"/><path d=\"M17.41 7.96l-1.37-1.37c-.4-.4-.92-.59-1.43-.59-.52 0-1.04.2-1.43.59L10.3 9.45l-7.72 7.72c-.78.78-.78 2.05 0 2.83L4 21.41c.39.39.9.59 1.41.59.51 0 1.02-.2 1.41-.59l7.78-7.78 2.81-2.81c.8-.78.8-2.07 0-2.86zM5.41 20L4 18.59l7.72-7.72 1.47 1.35L5.41 20z\"/>\n",
              "  </svg>\n",
              "      </button>\n",
              "      \n",
              "  <style>\n",
              "    .colab-df-container {\n",
              "      display:flex;\n",
              "      flex-wrap:wrap;\n",
              "      gap: 12px;\n",
              "    }\n",
              "\n",
              "    .colab-df-convert {\n",
              "      background-color: #E8F0FE;\n",
              "      border: none;\n",
              "      border-radius: 50%;\n",
              "      cursor: pointer;\n",
              "      display: none;\n",
              "      fill: #1967D2;\n",
              "      height: 32px;\n",
              "      padding: 0 0 0 0;\n",
              "      width: 32px;\n",
              "    }\n",
              "\n",
              "    .colab-df-convert:hover {\n",
              "      background-color: #E2EBFA;\n",
              "      box-shadow: 0px 1px 2px rgba(60, 64, 67, 0.3), 0px 1px 3px 1px rgba(60, 64, 67, 0.15);\n",
              "      fill: #174EA6;\n",
              "    }\n",
              "\n",
              "    [theme=dark] .colab-df-convert {\n",
              "      background-color: #3B4455;\n",
              "      fill: #D2E3FC;\n",
              "    }\n",
              "\n",
              "    [theme=dark] .colab-df-convert:hover {\n",
              "      background-color: #434B5C;\n",
              "      box-shadow: 0px 1px 3px 1px rgba(0, 0, 0, 0.15);\n",
              "      filter: drop-shadow(0px 1px 2px rgba(0, 0, 0, 0.3));\n",
              "      fill: #FFFFFF;\n",
              "    }\n",
              "  </style>\n",
              "\n",
              "      <script>\n",
              "        const buttonEl =\n",
              "          document.querySelector('#df-1a81aa30-d8a4-43e3-928a-91890264dc5e button.colab-df-convert');\n",
              "        buttonEl.style.display =\n",
              "          google.colab.kernel.accessAllowed ? 'block' : 'none';\n",
              "\n",
              "        async function convertToInteractive(key) {\n",
              "          const element = document.querySelector('#df-1a81aa30-d8a4-43e3-928a-91890264dc5e');\n",
              "          const dataTable =\n",
              "            await google.colab.kernel.invokeFunction('convertToInteractive',\n",
              "                                                     [key], {});\n",
              "          if (!dataTable) return;\n",
              "\n",
              "          const docLinkHtml = 'Like what you see? Visit the ' +\n",
              "            '<a target=\"_blank\" href=https://colab.research.google.com/notebooks/data_table.ipynb>data table notebook</a>'\n",
              "            + ' to learn more about interactive tables.';\n",
              "          element.innerHTML = '';\n",
              "          dataTable['output_type'] = 'display_data';\n",
              "          await google.colab.output.renderOutput(dataTable, element);\n",
              "          const docLink = document.createElement('div');\n",
              "          docLink.innerHTML = docLinkHtml;\n",
              "          element.appendChild(docLink);\n",
              "        }\n",
              "      </script>\n",
              "    </div>\n",
              "  </div>\n",
              "  "
            ]
          },
          "metadata": {},
          "execution_count": 23
        }
      ]
    },
    {
      "cell_type": "code",
      "source": [
        "import matplotlib.pyplot as plt\n",
        "\n",
        "df.plot(kind='scatter', x='pm10', y='max')\n",
        "\n",
        "plt.title('Data Sekolah')\n",
        "plt.xlabel('Jumlah PM10')\n",
        "plt.ylabel('Jumlah Max')\n",
        "plt.xlim(0, 100)\n",
        "plt.ylim(0, 100)\n",
        "plt.grid(True)\n",
        "plt.show()"
      ],
      "metadata": {
        "colab": {
          "base_uri": "https://localhost:8080/",
          "height": 295
        },
        "id": "hrJnLjmKk1da",
        "outputId": "3006628e-bd0e-48a7-e94d-c189b1f923f3"
      },
      "execution_count": 24,
      "outputs": [
        {
          "output_type": "display_data",
          "data": {
            "text/plain": [
              "<Figure size 432x288 with 1 Axes>"
            ],
            "image/png": "[encoded data removed]"
          },
          "metadata": {
            "needs_background": "light"
          }
        }
      ]
    },
    {
      "cell_type": "code",
      "source": [
        "import numpy as np\n",
        "x = np.array(df['pm10'])\n",
        "y = np.array(df['max'])\n",
        "\n",
        "print(f'x : {x}')\n",
        "print(f'y : {y}')"
      ],
      "metadata": {
        "id": "EoWR6a2AlFSQ",
        "colab": {
          "base_uri": "https://localhost:8080/"
        },
        "outputId": "0a60b815-6d80-4364-ff8e-685e809bf84c"
      },
      "execution_count": 25,
      "outputs": [
        {
          "output_type": "stream",
          "name": "stdout",
          "text": [
            "x : [53 47 57 52 51 81 59 66 64 58 56 60 52 55 54 32 77 76 58 61 38 61 53 64\n",
            " 45 61 84 90 44 65 65 46 54 62 56 56]\n",
            "y : [53 47 57 52 51 81 59 66 64 58 56 60 52 55 54 32 77 76 58 61 38 61 53 64\n",
            " 45 61 84 90 44 65 65 48 54 62 56 56]\n"
          ]
        }
      ]
    },
    {
      "cell_type": "code",
      "source": [
        "x = x.reshape(-1, 1)\n",
        "x.shape"
      ],
      "metadata": {
        "colab": {
          "base_uri": "https://localhost:8080/"
        },
        "id": "MhZQ4ParxDqW",
        "outputId": "e14d9089-6496-4217-a50f-79c7a4955060"
      },
      "execution_count": 26,
      "outputs": [
        {
          "output_type": "execute_result",
          "data": {
            "text/plain": [
              "(36, 1)"
            ]
          },
          "metadata": {},
          "execution_count": 26
        }
      ]
    },
    {
      "cell_type": "code",
      "source": [
        "from sklearn.linear_model import LinearRegression #memanggil model regresi linear\n",
        "\n",
        "model = LinearRegression() #variabel model bisa diganti\n",
        "model.fit(x, y) "
      ],
      "metadata": {
        "colab": {
          "base_uri": "https://localhost:8080/"
        },
        "id": "iyOTF4zaxGnL",
        "outputId": "e82eed4e-a614-4cdf-a03c-c2fbed3fc7b6"
      },
      "execution_count": 27,
      "outputs": [
        {
          "output_type": "execute_result",
          "data": {
            "text/plain": [
              "LinearRegression()"
            ]
          },
          "metadata": {},
          "execution_count": 27
        }
      ]
    },
    {
      "cell_type": "code",
      "source": [
        "x_vis = np.array([0, 100]).reshape(-1, 1) #pembuatan garis merah dari x\n",
        "y_vis = model.predict(x_vis) #model mesin lerning"
      ],
      "metadata": {
        "id": "mK8aePYVxIsP"
      },
      "execution_count": 28,
      "outputs": []
    },
    {
      "cell_type": "code",
      "source": [
        "plt.scatter(x, y)\n",
        "plt.plot(x_vis, y_vis, '-r')\n",
        "plt.title('Data Sekolah')\n",
        "plt.xlabel('Jumlah PM10')\n",
        "plt.ylabel('Jumlah Max')\n",
        "plt.xlim(0, 100)\n",
        "plt.ylim(0, 100)# untuk membuat batas pada visualisasi y\n",
        "plt.grid(True)\n",
        "plt.show()"
      ],
      "metadata": {
        "colab": {
          "base_uri": "https://localhost:8080/",
          "height": 295
        },
        "id": "ncSjI65WxLw8",
        "outputId": "6be8759a-2d2c-4411-d971-60060855d650"
      },
      "execution_count": 29,
      "outputs": [
        {
          "output_type": "display_data",
          "data": {
            "text/plain": [
              "<Figure size 432x288 with 1 Axes>"
            ],
            "image/png": "[encoded data removed]"
          },
          "metadata": {
            "needs_background": "light"
          }
        }
      ]
    },
    {
      "cell_type": "code",
      "source": [
        "print(f'intercept  :  {model.intercept_}')\n",
        "print(f'slope : {model.coef_}')"
      ],
      "metadata": {
        "colab": {
          "base_uri": "https://localhost:8080/"
        },
        "id": "gwyssKxtxY7n",
        "outputId": "e7bde511-6262-4ca0-ee73-a7e5d1ba378e"
      },
      "execution_count": 30,
      "outputs": [
        {
          "output_type": "stream",
          "name": "stdout",
          "text": [
            "intercept  :  0.34719783415879135\n",
            "slope : [0.99503118]\n"
          ]
        }
      ]
    },
    {
      "cell_type": "code",
      "source": [
        "rat = np.array([40\t, 50, 76, 78, 30]).reshape(-1, 1)\n",
        "rat"
      ],
      "metadata": {
        "colab": {
          "base_uri": "https://localhost:8080/"
        },
        "id": "xiAoe5rjzS57",
        "outputId": "132c35b2-a322-4381-ddbd-d7c5016d8ea3"
      },
      "execution_count": 31,
      "outputs": [
        {
          "output_type": "execute_result",
          "data": {
            "text/plain": [
              "array([[40],\n",
              "       [50],\n",
              "       [76],\n",
              "       [78],\n",
              "       [30]])"
            ]
          },
          "metadata": {},
          "execution_count": 31
        }
      ]
    },
    {
      "cell_type": "code",
      "source": [
        "prediksi_indeks = model.predict(rat)\n",
        "prediksi_indeks"
      ],
      "metadata": {
        "colab": {
          "base_uri": "https://localhost:8080/"
        },
        "id": "qlcGFFhqzikj",
        "outputId": "3bd1d2a5-e1e9-4b61-f061-d52b2ddbca6d"
      },
      "execution_count": 32,
      "outputs": [
        {
          "output_type": "execute_result",
          "data": {
            "text/plain": [
              "array([40.14844493, 50.09875671, 75.96956732, 77.95962968, 30.19813316])"
            ]
          },
          "metadata": {},
          "execution_count": 32
        }
      ]
    },
    {
      "cell_type": "code",
      "source": [
        "for total, index in zip(rat, prediksi_indeks):\n",
        "  print(f'jumlah : {total} prediksi indeks : {index}')"
      ],
      "metadata": {
        "colab": {
          "base_uri": "https://localhost:8080/"
        },
        "id": "8QAAc9Uqzllx",
        "outputId": "cda2ab59-b34e-4c5a-a36f-7284992cc180"
      },
      "execution_count": 33,
      "outputs": [
        {
          "output_type": "stream",
          "name": "stdout",
          "text": [
            "jumlah : [40] prediksi indeks : 40.14844493250774\n",
            "jumlah : [50] prediksi indeks : 50.098756707094985\n",
            "jumlah : [76] prediksi indeks : 75.9695673210218\n",
            "jumlah : [78] prediksi indeks : 77.95962967593925\n",
            "jumlah : [30] prediksi indeks : 30.198133157920505\n"
          ]
        }
      ]
    },
    {
      "cell_type": "code",
      "source": [
        "print(\"Jumlah PM10 : \") \n",
        "df['pm10'].sum()"
      ],
      "metadata": {
        "colab": {
          "base_uri": "https://localhost:8080/"
        },
        "id": "UMjO_ijgzn-m",
        "outputId": "142bd110-e871-4fa6-f8c0-8b4330b6024c"
      },
      "execution_count": 42,
      "outputs": [
        {
          "output_type": "stream",
          "name": "stdout",
          "text": [
            "Jumlah PM10 : \n"
          ]
        },
        {
          "output_type": "execute_result",
          "data": {
            "text/plain": [
              "2113"
            ]
          },
          "metadata": {},
          "execution_count": 42
        }
      ]
    },
    {
      "cell_type": "code",
      "source": [
        "print(\"Jumlah so2 : \")\n",
        "df['so2'].sum()"
      ],
      "metadata": {
        "colab": {
          "base_uri": "https://localhost:8080/"
        },
        "id": "MjOKu1VI0zUY",
        "outputId": "e5226ffd-34b2-4425-a7d1-96f6dda0b6ec"
      },
      "execution_count": 43,
      "outputs": [
        {
          "output_type": "stream",
          "name": "stdout",
          "text": [
            "Jumlah so2 : \n"
          ]
        },
        {
          "output_type": "execute_result",
          "data": {
            "text/plain": [
              "949"
            ]
          },
          "metadata": {},
          "execution_count": 43
        }
      ]
    },
    {
      "cell_type": "code",
      "source": [
        "print(\"Jumlah co: \")\n",
        "df['co'].sum()"
      ],
      "metadata": {
        "colab": {
          "base_uri": "https://localhost:8080/"
        },
        "id": "xMtwVIBt0_Aa",
        "outputId": "05cbfae0-f928-4e1e-e67f-4f401134645f"
      },
      "execution_count": 44,
      "outputs": [
        {
          "output_type": "stream",
          "name": "stdout",
          "text": [
            "Jumlah co: \n"
          ]
        },
        {
          "output_type": "execute_result",
          "data": {
            "text/plain": [
              "1097"
            ]
          },
          "metadata": {},
          "execution_count": 44
        }
      ]
    },
    {
      "cell_type": "code",
      "source": [
        "print(\"Jumlah o3 : \")\n",
        "df['o3'].sum()"
      ],
      "metadata": {
        "colab": {
          "base_uri": "https://localhost:8080/"
        },
        "id": "HnXam_VD1Dit",
        "outputId": "2ef6fd39-7831-4a84-9ae5-e673891c9970"
      },
      "execution_count": 45,
      "outputs": [
        {
          "output_type": "stream",
          "name": "stdout",
          "text": [
            "Jumlah o3 : \n"
          ]
        },
        {
          "output_type": "execute_result",
          "data": {
            "text/plain": [
              "819"
            ]
          },
          "metadata": {},
          "execution_count": 45
        }
      ]
    },
    {
      "cell_type": "code",
      "source": [
        "print(\"Jumlah max : \")\n",
        "df['max'].sum()"
      ],
      "metadata": {
        "colab": {
          "base_uri": "https://localhost:8080/"
        },
        "id": "QwFJmnGR1Jf9",
        "outputId": "1a89bd1a-588e-44c3-fce3-76f4554320fd"
      },
      "execution_count": 47,
      "outputs": [
        {
          "output_type": "stream",
          "name": "stdout",
          "text": [
            "Jumlah max : \n"
          ]
        },
        {
          "output_type": "execute_result",
          "data": {
            "text/plain": [
              "2115"
            ]
          },
          "metadata": {},
          "execution_count": 47
        }
      ]
    },
    {
      "cell_type": "code",
      "source": [
        "import matplotlib.pyplot as plt"
      ],
      "metadata": {
        "id": "GDtFuL_31MtN"
      },
      "execution_count": 58,
      "outputs": []
    },
    {
      "cell_type": "code",
      "source": [
        "fig = plt.figure()\n",
        "ax = fig.add_axes([0,0,1,1])\n",
        "perusahaan = [\"pm10 \", \"so2\", \"co\", \"o3\", \"max\"]\n",
        "angka = [2113, 949, 1097, 819, 2115]\n",
        "c = ['blue', 'green', 'red', 'purple', 'yellow']\n",
        "plt.title(\"Tabel kesehatan\")\n",
        "plt.bar(perusahaan, angka, color = c)\n",
        "plt.show()\n",
        "\n",
        "print(\"\")\n",
        "fig = plt.figure()\n",
        "ax = fig.add_axes([0,0,1,1])\n",
        "ax.axis('equal')\n",
        "perusahaan = [\"pm10 \", \"so2\", \"co\", \"o3\", \"max\"]\n",
        "angka = [2113, 949, 1097, 819, 2115]\n",
        "ax.pie(angka, labels=perusahaan,autopct='%1.2f%%')\n",
        "plt.title(\"Tabel kesehatan\")\n",
        "plt.show()"
      ],
      "metadata": {
        "colab": {
          "base_uri": "https://localhost:8080/",
          "height": 687
        },
        "id": "MaG4hXIt2XeP",
        "outputId": "454bf8ec-857b-4e6f-d08c-908bfc4f1f19"
      },
      "execution_count": 61,
      "outputs": [
        {
          "output_type": "display_data",
          "data": {
            "text/plain": [
              "<Figure size 432x288 with 1 Axes>"
            ],
            "image/png": "[encoded data removed]"
          },
          "metadata": {
            "needs_background": "light"
          }
        },
        {
          "output_type": "stream",
          "name": "stdout",
          "text": [
            "\n"
          ]
        },
        {
          "output_type": "display_data",
          "data": {
            "text/plain": [
              "<Figure size 432x288 with 1 Axes>"
            ],
            "image/png": "[encoded data removed]"
          },
          "metadata": {}
        }
      ]
    }
  ]
}